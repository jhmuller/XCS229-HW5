{
 "cells": [
  {
   "cell_type": "code",
   "execution_count": 1,
   "id": "a7f29d96",
   "metadata": {},
   "outputs": [],
   "source": [
    "import numpy as np"
   ]
  },
  {
   "cell_type": "code",
   "execution_count": 4,
   "id": "f4db84e5",
   "metadata": {
    "scrolled": true
   },
   "outputs": [
    {
     "data": {
      "text/plain": [
       "array([1, 3, 3, 1, 2, 2])"
      ]
     },
     "execution_count": 4,
     "metadata": {},
     "output_type": "execute_result"
    }
   ],
   "source": [
    "np.random.choice([1,2,3], 6, replace=True)"
   ]
  },
  {
   "cell_type": "code",
   "execution_count": 5,
   "id": "03a0bd8d",
   "metadata": {},
   "outputs": [
    {
     "name": "stdout",
     "output_type": "stream",
     "text": [
      "[[0.55948119 0.69349153 0.93559095 0.48856896]\n",
      " [0.52529166 0.97294984 0.14343775 0.93696378]\n",
      " [0.95210464 0.51211184 0.91205303 0.93480089]\n",
      " [0.86909262 0.41047371 0.68328898 0.09787075]\n",
      " [0.88386    0.16149586 0.35671999 0.05041656]\n",
      " [0.91390327 0.17172533 0.85679371 0.87807346]\n",
      " [0.32032648 0.31158265 0.94987367 0.79291986]\n",
      " [0.14151262 0.5759806  0.01038415 0.6506715 ]\n",
      " [0.66901441 0.52363872 0.05595748 0.32848131]\n",
      " [0.8729421  0.52657351 0.56027432 0.30550842]]\n",
      " mu [ 0.10665775 -0.32682531],  w (10, 4)  x (10, 2) sigma [[ 0.50291968 -0.21666872]\n",
      " [-0.21666872  1.24302913]]\n"
     ]
    }
   ],
   "source": [
    "\n",
    "N = 10\n",
    "m = 2\n",
    "k = 4\n",
    "j = 1\n",
    "\n",
    "w = np.random.uniform(0, 1, [N, k])\n",
    "print(w)\n",
    "x = np.random.normal(0, 1, [N,m])\n",
    "mu = x.mean(axis=0)\n",
    "sigma = np.cov(x,rowvar=False, aweights=w[:,0])\n",
    "print(f\" mu {mu},  w {w.shape}  x {x.shape} sigma {sigma}\")"
   ]
  },
  {
   "cell_type": "code",
   "execution_count": 6,
   "id": "3d9da236",
   "metadata": {},
   "outputs": [
    {
     "name": "stdout",
     "output_type": "stream",
     "text": [
      "(12, 2)\n",
      " 0 -5.0 2.188268932019842e-22\n",
      " 10 -4.5 1.5771751337590554e-18\n",
      " 20 -4.0 4.4303152003601014e-15\n",
      " 30 -3.5 4.850257635821474e-12\n",
      " 40 -3.0 2.0695240043867813e-09\n",
      " 50 -2.5 3.4415303672305053e-07\n",
      " 60 -2.0 2.2305307853853762e-05\n",
      " 70 -1.5 0.0005634304510996434\n",
      " 80 -1.0 0.00554686870679053\n",
      " 90 -0.5 0.021282906414554742\n",
      " 100 -0.0 0.03182654256356694\n",
      " 110 0.5 0.018549126659293706\n",
      " 120 1.0 0.004213402504716973\n",
      " 130 1.5 0.0003730077963644627\n",
      " 140 2.0 1.2869994081188536e-05\n",
      " 150 2.5 1.7306699894533577e-07\n",
      " 160 3.0 9.070383641541343e-10\n",
      " 170 3.5 1.852731680306034e-12\n",
      " 180 4.0 1.4749417762569064e-15\n",
      " 190 4.5 4.576281208376553e-19\n",
      "0.8239098048365507\n"
     ]
    }
   ],
   "source": [
    "siginv = np.linalg.inv(sigma)\n",
    "det = np.linalg.det(sigma)\n",
    "minx = -5\n",
    "maxx = 5\n",
    "incr = 0.05\n",
    "probs = np.zeros([maxx - minx + 2, 2])\n",
    "print(probs.shape)\n",
    "printfreq = 10\n",
    "psum = 0\n",
    "xs = []\n",
    "probs = []\n",
    "for i, xx in enumerate(np.arange(minx, maxx, incr)):\n",
    "    z = [xx, xx]\n",
    "    p1 = np.matmul(np.matmul((z - mu).T , siginv), (z-mu))\n",
    "    num = np.exp(-0.5 * p1)\n",
    "    den = np.sqrt(((2.0 * np.pi)**k) * (det))\n",
    "    prob = num/float(den)\n",
    "    psum += prob\n",
    "    xs.append(xx)\n",
    "    probs.append(prob)\n",
    "    if i % printfreq == 0:\n",
    "        print(f\" {i} {np.round(xx, 4)} {prob}\")\n",
    "    #print(f\"xx {xx}, prob {prob} num {num}\")\n",
    "print(f\"{psum}\")"
   ]
  },
  {
   "cell_type": "code",
   "execution_count": 7,
   "id": "73fcf942",
   "metadata": {},
   "outputs": [
    {
     "data": {
      "text/plain": [
       "<matplotlib.collections.PathCollection at 0x7fea358eb9d0>"
      ]
     },
     "execution_count": 7,
     "metadata": {},
     "output_type": "execute_result"
    },
    {
     "data": {
      "image/png": "[encoded data removed]",
      "text/plain": [
       "<Figure size 432x288 with 1 Axes>"
      ]
     },
     "metadata": {
      "needs_background": "light"
     },
     "output_type": "display_data"
    }
   ],
   "source": [
    "import matplotlib as mpl\n",
    "import matplotlib.pyplot as plt\n",
    "plt.scatter(xs, probs)"
   ]
  },
  {
   "cell_type": "code",
   "execution_count": 94,
   "id": "60916d1c",
   "metadata": {},
   "outputs": [
    {
     "data": {
      "text/plain": [
       "array([[0., 0.],\n",
       "       [0., 0.],\n",
       "       [0., 0.],\n",
       "       [0., 0.],\n",
       "       [0., 0.],\n",
       "       [0., 0.],\n",
       "       [0., 0.],\n",
       "       [0., 0.],\n",
       "       [0., 0.],\n",
       "       [0., 0.],\n",
       "       [0., 0.],\n",
       "       [0., 0.],\n",
       "       [0., 0.],\n",
       "       [0., 0.],\n",
       "       [0., 0.],\n",
       "       [0., 0.],\n",
       "       [0., 0.],\n",
       "       [0., 0.],\n",
       "       [0., 0.],\n",
       "       [0., 0.],\n",
       "       [0., 0.],\n",
       "       [0., 0.],\n",
       "       [0., 0.],\n",
       "       [0., 0.],\n",
       "       [0., 0.],\n",
       "       [0., 0.],\n",
       "       [0., 0.],\n",
       "       [0., 0.],\n",
       "       [0., 0.],\n",
       "       [0., 0.],\n",
       "       [0., 0.],\n",
       "       [0., 0.],\n",
       "       [0., 0.],\n",
       "       [0., 0.],\n",
       "       [0., 0.],\n",
       "       [0., 0.],\n",
       "       [0., 0.],\n",
       "       [0., 0.],\n",
       "       [0., 0.],\n",
       "       [0., 0.],\n",
       "       [0., 0.]])"
      ]
     },
     "execution_count": 94,
     "metadata": {},
     "output_type": "execute_result"
    }
   ],
   "source": [
    "probs[:,0].sum()\n",
    "probs"
   ]
  },
  {
   "cell_type": "code",
   "execution_count": 32,
   "id": "a6a20d08",
   "metadata": {},
   "outputs": [
    {
     "data": {
      "text/plain": [
       "array([ 0.56040506,  1.25929852,  0.77857564,  1.51436138, -1.17214239,\n",
       "       -0.44789962,  1.00803699,  0.53447012,  0.77015635,  0.21704817])"
      ]
     },
     "execution_count": 32,
     "metadata": {},
     "output_type": "execute_result"
    }
   ],
   "source": [
    "np.cov(x, rowvar=False)\n",
    "w[:,0]"
   ]
  },
  {
   "cell_type": "code",
   "execution_count": 37,
   "id": "affc8ccf",
   "metadata": {},
   "outputs": [
    {
     "data": {
      "text/plain": [
       "array([[ 0.65379099, -0.38113841],\n",
       "       [-0.38113841,  1.70641898]])"
      ]
     },
     "execution_count": 37,
     "metadata": {},
     "output_type": "execute_result"
    }
   ],
   "source": [
    "np.cov(x, rowvar=False, aweights=w[:,0])\n",
    "#np.dot(w[:,0] * xtx"
   ]
  },
  {
   "cell_type": "code",
   "execution_count": null,
   "id": "db18e596",
   "metadata": {},
   "outputs": [],
   "source": []
  },
  {
   "cell_type": "code",
   "execution_count": null,
   "id": "3f73a3f2",
   "metadata": {},
   "outputs": [],
   "source": [
    "def mvnorm(x, mu, sigma):\n",
    "    print(f\" shape mu {mu.shape} shape sigma {sigma.shape} shape x {x.shape}\")            \n",
    "    return np.exp(-0.5 * np.sum((x - mu) / sigma, axis=1)) / np.sqrt(np.prod(sigma))"
   ]
  }
 ],
 "metadata": {
  "kernelspec": {
   "display_name": "stml",
   "language": "python",
   "name": "stml"
  },
  "language_info": {
   "codemirror_mode": {
    "name": "ipython",
    "version": 3
   },
   "file_extension": ".py",
   "mimetype": "text/x-python",
   "name": "python",
   "nbconvert_exporter": "python",
   "pygments_lexer": "ipython3",
   "version": "3.9.12"
  }
 },
 "nbformat": 4,
 "nbformat_minor": 5
}
